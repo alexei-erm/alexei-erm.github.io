{
 "cells": [
  {
   "cell_type": "markdown",
   "metadata": {},
   "source": [
    "# Lights, Camera, Action: Unraveling the Reel Impact of Real-World Events on Arab Representation in Movies\n",
    "\n",
    "In the captivating realm of cinema, the silver screen not only reflects our collective imagination but also mirrors the complex tapestry of societal changes and historical events. One such moment that reverberated globally was the tragic day of September 11, 2001. Beyond its immediate and profound impact on geopolitics, security measures, and the psyche of nations, the events of 9/11 had a far-reaching influence on the cultural landscape, including the portrayal of Arab identities in the movies.\n",
    "\n",
    "Our data analysis journey delves into the captivating intersection of reality and reel, seeking to understand how one of the most significant events of the 21st century shaped the representation of Arabs in cinema. The lens through which movies depict Arab characters, cultures, and narratives has often been subject to scrutiny, with questions raised about the perpetuation of stereotypes and the impact of real-world events on cinematic storytelling.\n",
    "\n",
    "Through our analysis of the CMU movie dataset, spanning pre and post-9/11 eras, we hope to unearth patterns, trends, and anomalies that illuminate the multifaceted relationship between historical events and cinematic narratives. As we unravel the *reel impact of real-world events* (*tu-dums*), our journey promises to uncover not only the challenges but also the opportunities for more authentic storytelling in the world of cinema. So, grab your popcorn, and.... *Lights... Camera... Action!*\n",
    "\n",
    "# *\"Nice to meet you, I'm Data\"*: getting familiar with the dataset\n",
    "\n",
    "![images/dictator_ada.jpg](attachment:images/dictator_ada.jpg)\n",
    "\n",
    "\n",
    "\n",
    "recycle P2, facts and graphs about initial pre-processings\n"
   ]
  },
  {
   "cell_type": "markdown",
   "metadata": {},
   "source": [
    "\n",
    "\n",
    "\n",
    "# Wait a second... How do we detect arab characters?\n",
    "\n",
    "Indeed, an important stepping stone for the analysis is to have a consensus on what do we mean by \"Arab\" character or location. \n",
    "\n",
    "*explain use of chatGPT word list, filtering + muslim VS arabic* --> + matteo's branch \n",
    "\n",
    "\n",
    "\n",
    "# [...] the crime and war genre\n",
    "\n",
    "A first question we can ask is how did the participation of Arab characters in the crime and war (c&w) genre change after 2001, if it changed? This analysis can be made without the use of a movie's plot so it is a great place to start at. We are now able to detect movies with arab characters in our dataset. The selected years for the two groups formed need to exclude other non-negligible real-world events. We thus limit the analysis to movies from 1972 to 2013. Let's see if some trends can be spotted immediately by plotting simple statistics at first!\n",
    "\n",
    "< Percentage of characters (overall and arab) in Crime and War movies, per year > \n",
    "+ only western countries (nothing new)\n",
    "\n",
    "- Considering all the characters (blue bars), We can see that there is no clear trend. After 2003 the value seems eventually to decrease, that means a decresing partecipation for characters in W&C movies.\n",
    "\n",
    "- Arabs (red bars) show a lot of fluctuations during the years, evidently during the last century. This is due to the small partecipation in W&C (less than 5 per year before 2003), generating less reliable percentages. After 2004 arab characters seems to play a higher fraction of these genre films than the overall characters in terms of mean values. Still the uncertainty given by bootstrapping shows that this can be stated only for years 2006, 2011 and 2012, where the confidence intervals do not intersect.\n",
    "\n",
    "We can be more precise on this analysis looking at the feature before and after 2001. This grouping is done to avoid the problem of sparsity of data for arabs, specially doring the last century movies, that leads to high uncertainty. We will use an observational study scheme, with the treatment as the pubblication after 2001 and the outcome as the fraction of arab characters in W&C movies. First of all, we want to if the all characters trend is really negative for war and crime movies, confirming that this is not the reason for the possible positive correlalation for arabs.\n",
    "\n",
    "< present OLS results >  + western filter\n",
    "\n",
    "< present observationnal study results > + western filter\n",
    "\n",
    "To conclude this analysis, we can say that there is a significant increase in participation of arab characters in w&c movies, [intensified when accounting only for western countries NOT SIGNIFICANT CF BAR PLOT], which intuitively, makes sense. But this result does not consider the possible positive / negative connotations in the movie. In the following parts, we delve in this more nuanced analysis.\n",
    "\n",
    "# [...]  implicit connotations in movie plots\n",
    "\n",
    "use P2's word clouds + LDA for topic modeling\n",
    "\n",
    "Let's now take a more qualitative approach and touch on positive and negative connotations that can be picked up from a movie's plot. Using Named Entity Recognition (NER) from the spacy model, we detect named entities in the dataset's plots and cross validate it with our hand-made list to detect arab characters or locations.\n",
    "\n",
    "We can then simply look at the most recurrent words for movies with arab characters detected and those where there aren't any and visualize the results.\n",
    "\n",
    "< include both word clouds >\n",
    "\n",
    "We can see clearly from the word cloud visualization that the lexical field differ: for the movies with arabic have much more words with bad connotation, like kill, drugs, help, and attack whereas for the movies in which the plot doesn't mention an arabic character, the most repeated words are more neutral and/or more positive for example family, life, son ,decide... Even though both negative words and positive words in both categories, it is worth noting that the scales for the words in common differ: for example the word kill, we can see that it is bigger in the movies with arabic characters. But while this may point towards a certain conclusion already, this is not enough to conclude anything yet.\n",
    "\n",
    "\n",
    "\n",
    "# Sentiment analysis\n",
    "\n",
    "\n"
   ]
  },
  {
   "cell_type": "markdown",
   "metadata": {},
   "source": []
  }
 ],
 "metadata": {
  "language_info": {
   "name": "python"
  }
 },
 "nbformat": 4,
 "nbformat_minor": 2
}
